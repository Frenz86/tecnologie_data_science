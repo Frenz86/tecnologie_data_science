{
  "nbformat": 4,
  "nbformat_minor": 0,
  "metadata": {
    "colab": {
      "name": "Github-GoogleDrive-GoogleColab.ipynb",
      "provenance": [],
      "collapsed_sections": [],
      "toc_visible": true,
      "authorship_tag": "ABX9TyOd8zXmwoghP5NAB6Sk7wFv",
      "include_colab_link": true
    },
    "kernelspec": {
      "name": "python3",
      "display_name": "Python 3"
    }
  },
  "cells": [
    {
      "cell_type": "markdown",
      "metadata": {
        "id": "view-in-github",
        "colab_type": "text"
      },
      "source": [
        "<a href=\"https://colab.research.google.com/github/visiont3lab/data-visualization/blob/master/courses/Setup/Github-GoogleDrive-GoogleColab.ipynb\" target=\"_parent\"><img src=\"https://colab.research.google.com/assets/colab-badge.svg\" alt=\"Open In Colab\"/></a>"
      ]
    },
    {
      "cell_type": "markdown",
      "metadata": {
        "id": "0b68U9SEpVnO",
        "colab_type": "text"
      },
      "source": [
        "## Github-GoogleDrive-GoogleColab Setup\n",
        "\n",
        "0. GoogleDrive: Andare su Google Drive creasi una cartella chiamata \"data_visualization\". Create un nuovo google colab file oppure aprite un Google-Colab del corso [data-visualization](https://github.com/visiont3lab/data-visualization), salvatelo e spostatelo in questa cartella.\n",
        "1. Github: Andare su [Github](https://github.com/) e creare un account \n",
        "2. Github: Creare un repository chiamato \"seaborn-data-visualization\" e creare un README.md di default.\n",
        "3. GoogleColab: Editare il seguent notebook aggiugendo codice o commenti.\n",
        "4. GoogleColab: Salvare il contenuto su Git (Save a Copy in Github)\n",
        "5. Github: Creare un file index.html con scritto dentro \"Test\" . Questa sarà la nostra pagine web di partenza. Più informazioni a  [Github Web Pages](https://pages.github.com/).\n",
        "6. Github: Vai su settings e cerchimao \"Github Pages\". Lo abilitiamo scegliendo \"master-branch. Possiamo anche scegliere un tema nella sezione \"Theme Choser\".\n",
        "Dovrebbe essere comparso sotto \"Github Pages\"\n",
        "> Your site is ready to be published at https://visiont3lab.github.io/seaborn-data-visualization/.\n",
        "7. GoogleColab: Convertire notebook (ipynb) in html e scaricalo localmente\n",
        "8. Github: Caricare il file html scaricato su Github. Importare è che il nome del file sia \"index.html\" "
      ]
    },
    {
      "cell_type": "markdown",
      "metadata": {
        "id": "GO3mNLjE5UwK",
        "colab_type": "text"
      },
      "source": [
        "## Convertire un notebook (ipynb) contenuto in un repository GIT (Github) in html"
      ]
    },
    {
      "cell_type": "code",
      "metadata": {
        "id": "T4i4vq2x4Bj-",
        "colab_type": "code",
        "outputId": "8b62c7c3-0b46-48b8-8c24-761b7e34b1ca",
        "colab": {
          "base_uri": "https://localhost:8080/",
          "height": 122
        }
      },
      "source": [
        "!git clone https://github.com/visiont3lab/seaborn-data-visualization.git"
      ],
      "execution_count": 0,
      "outputs": [
        {
          "output_type": "stream",
          "text": [
            "Cloning into 'seaborn-data-visualization'...\n",
            "remote: Enumerating objects: 9, done.\u001b[K\n",
            "remote: Counting objects: 100% (9/9), done.\u001b[K\n",
            "remote: Compressing objects: 100% (7/7), done.\u001b[K\n",
            "remote: Total 9 (delta 1), reused 0 (delta 0), pack-reused 0\u001b[K\n",
            "Unpacking objects: 100% (9/9), done.\n"
          ],
          "name": "stdout"
        }
      ]
    },
    {
      "cell_type": "code",
      "metadata": {
        "id": "hilAtz6W4N9u",
        "colab_type": "code",
        "outputId": "661033ab-f884-4e27-f828-0dcc32729d17",
        "colab": {
          "base_uri": "https://localhost:8080/",
          "height": 52
        }
      },
      "source": [
        "%cd seaborn-data-visualization/\n",
        "!ls"
      ],
      "execution_count": 0,
      "outputs": [
        {
          "output_type": "stream",
          "text": [
            "/content/seaborn-data-visualization\n",
            "Github_GOOGLEColab.ipynb  index.html  README.md\n"
          ],
          "name": "stdout"
        }
      ]
    },
    {
      "cell_type": "code",
      "metadata": {
        "id": "y4FcX8Do4Sn4",
        "colab_type": "code",
        "outputId": "7af8c3c7-4ee2-44a6-df92-4ac99d266011",
        "colab": {
          "base_uri": "https://localhost:8080/",
          "height": 70
        }
      },
      "source": [
        "#jupyter nbconvert --to <output format> <filename.ipynb>\n",
        "!jupyter nbconvert --to html Github_GOOGLEColab.ipynb\n",
        "!ls"
      ],
      "execution_count": 0,
      "outputs": [
        {
          "output_type": "stream",
          "text": [
            "[NbConvertApp] Converting notebook Github_GOOGLEColab.ipynb to html\n",
            "[NbConvertApp] Writing 274084 bytes to Github_GOOGLEColab.html\n",
            "Github_GOOGLEColab.html  Github_GOOGLEColab.ipynb  index.html  README.md\n"
          ],
          "name": "stdout"
        }
      ]
    },
    {
      "cell_type": "markdown",
      "metadata": {
        "id": "efodPTLPjyqv",
        "colab_type": "text"
      },
      "source": [
        "## Convertire un notebook (ipynb) contenuto in un repository GOOGLE DRIVE in html"
      ]
    },
    {
      "cell_type": "code",
      "metadata": {
        "id": "-u2gM9i2kEue",
        "colab_type": "code",
        "outputId": "b3a464e3-d71b-4e47-80a2-5e0254c36462",
        "colab": {
          "base_uri": "https://localhost:8080/",
          "height": 34
        }
      },
      "source": [
        "from google.colab import drive\n",
        "drive.mount('/content/gdrive')"
      ],
      "execution_count": 0,
      "outputs": [
        {
          "output_type": "stream",
          "text": [
            "Drive already mounted at /content/gdrive; to attempt to forcibly remount, call drive.mount(\"/content/gdrive\", force_remount=True).\n"
          ],
          "name": "stdout"
        }
      ]
    },
    {
      "cell_type": "code",
      "metadata": {
        "id": "9P5l2tgEkEtq",
        "colab_type": "code",
        "outputId": "5bbd15b6-510c-44e6-b4e3-3a9feb21e4b0",
        "colab": {
          "base_uri": "https://localhost:8080/",
          "height": 87
        }
      },
      "source": [
        "%cd /content/gdrive/My Drive/Colab Notebooks/_Manuel_DataVisualization\n",
        "!ls"
      ],
      "execution_count": 0,
      "outputs": [
        {
          "output_type": "stream",
          "text": [
            "/content/gdrive/My Drive/Colab Notebooks/_Manuel_DataVisualization\n",
            "Github-GoogleDrive-GoogleColab.ipynb  Seaborn-Esercizio.ipynb\n",
            "Github.ipynb\t\t\t      Seaborn.ipynb\n",
            "Pandas-Esercizio-Soluzione.ipynb\n"
          ],
          "name": "stdout"
        }
      ]
    },
    {
      "cell_type": "code",
      "metadata": {
        "id": "SExz6-2bkzab",
        "colab_type": "code",
        "outputId": "23e592ef-24cd-4d85-cd08-5d2125c439d1",
        "colab": {
          "base_uri": "https://localhost:8080/",
          "height": 105
        }
      },
      "source": [
        "#jupyter nbconvert --to <output format> <filename.ipynb>\n",
        "!jupyter nbconvert --to html Pandas-Esercizio-Soluzione.ipynb --output index.html\n",
        "!ls"
      ],
      "execution_count": 0,
      "outputs": [
        {
          "output_type": "stream",
          "text": [
            "[NbConvertApp] Converting notebook Pandas-Esercizio-Soluzione.ipynb to html\n",
            "[NbConvertApp] Writing 553812 bytes to index.html\n",
            "Github-GoogleDrive-GoogleColab.ipynb  Pandas-Esercizio-Soluzione.ipynb\n",
            "Github.ipynb\t\t\t      Seaborn-Esercizio.ipynb\n",
            "index.html\t\t\t      Seaborn.ipynb\n"
          ],
          "name": "stdout"
        }
      ]
    },
    {
      "cell_type": "code",
      "metadata": {
        "id": "6E20AyFJordk",
        "colab_type": "code",
        "colab": {}
      },
      "source": [
        ""
      ],
      "execution_count": 0,
      "outputs": []
    }
  ]
}